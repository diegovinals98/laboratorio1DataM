{
 "cells": [
  {
   "cell_type": "markdown",
   "id": "463be354-d50c-4237-9c23-02714df352f4",
   "metadata": {},
   "source": [
    "# PRACTICA 2"
   ]
  },
  {
   "cell_type": "code",
   "execution_count": null,
   "id": "8f8f0c28-3a25-4893-8715-b95635ca0e50",
   "metadata": {},
   "outputs": [],
   "source": []
  }
 ],
 "metadata": {
  "kernelspec": {
   "display_name": "Python 3 (ipykernel)",
   "language": "python",
   "name": "python3"
  },
  "language_info": {
   "codemirror_mode": {
    "name": "ipython",
    "version": 3
   },
   "file_extension": ".py",
   "mimetype": "text/x-python",
   "name": "python",
   "nbconvert_exporter": "python",
   "pygments_lexer": "ipython3",
   "version": "3.9.13"
  }
 },
 "nbformat": 4,
 "nbformat_minor": 5
}
