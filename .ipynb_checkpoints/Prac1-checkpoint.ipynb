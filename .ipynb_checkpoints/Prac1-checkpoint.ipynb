{
 "cells": [
  {
   "cell_type": "markdown",
   "id": "4286c6a8-e5e5-46cd-846a-c79f5b4c064c",
   "metadata": {},
   "source": [
    "Practica1"
   ]
  },
  {
   "cell_type": "code",
   "execution_count": 1,
   "id": "b36fdbcd-2faf-4e5b-9a25-c6e2523ca3c2",
   "metadata": {},
   "outputs": [],
   "source": [
    "m = 3"
   ]
  },
  {
   "cell_type": "code",
   "execution_count": null,
   "id": "1e9cd7f8-2467-422e-980d-36606a517682",
   "metadata": {},
   "outputs": [],
   "source": []
  }
 ],
 "metadata": {
  "kernelspec": {
   "display_name": "Python 3 (ipykernel)",
   "language": "python",
   "name": "python3"
  },
  "language_info": {
   "codemirror_mode": {
    "name": "ipython",
    "version": 3
   },
   "file_extension": ".py",
   "mimetype": "text/x-python",
   "name": "python",
   "nbconvert_exporter": "python",
   "pygments_lexer": "ipython3",
   "version": "3.9.13"
  }
 },
 "nbformat": 4,
 "nbformat_minor": 5
}
