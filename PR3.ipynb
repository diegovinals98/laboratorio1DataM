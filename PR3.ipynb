{
 "cells": [
  {
   "cell_type": "markdown",
   "id": "76cc2730-e761-4a21-939e-27612f197000",
   "metadata": {},
   "source": [
    "# Practica 3"
   ]
  },
  {
   "cell_type": "code",
   "execution_count": 1,
   "id": "02d2c491-d602-453b-a1bd-06f4ee42f9f2",
   "metadata": {},
   "outputs": [],
   "source": [
    "# Importamos las librerias necesarias para poder depurar el dataset\n",
    "import pandas as pd\n",
    "import numpy as np\n",
    "import matplotlib.pyplot as plt\n",
    "import seaborn as sns\n",
    "\n",
    "from sklearn.datasets import load_iris\n",
    "from sklearn.preprocessing import StandardScaler\n",
    "from sklearn.decomposition import PCA\n",
    "\n",
    "%matplotlib inline"
   ]
  },
  {
   "cell_type": "code",
   "execution_count": 2,
   "id": "9dd4399e-6553-45fb-8cf5-62af888cf36b",
   "metadata": {},
   "outputs": [
    {
     "data": {
      "text/html": [
       "<div>\n",
       "<style scoped>\n",
       "    .dataframe tbody tr th:only-of-type {\n",
       "        vertical-align: middle;\n",
       "    }\n",
       "\n",
       "    .dataframe tbody tr th {\n",
       "        vertical-align: top;\n",
       "    }\n",
       "\n",
       "    .dataframe thead th {\n",
       "        text-align: right;\n",
       "    }\n",
       "</style>\n",
       "<table border=\"1\" class=\"dataframe\">\n",
       "  <thead>\n",
       "    <tr style=\"text-align: right;\">\n",
       "      <th></th>\n",
       "      <th>PokÃ©mon</th>\n",
       "      <th>Tipo</th>\n",
       "      <th>PS</th>\n",
       "      <th>Ataque</th>\n",
       "      <th>Defensa</th>\n",
       "      <th>Ataque especial</th>\n",
       "      <th>Defensa especial</th>\n",
       "      <th>Velocidad</th>\n",
       "    </tr>\n",
       "  </thead>\n",
       "  <tbody>\n",
       "    <tr>\n",
       "      <th>0</th>\n",
       "      <td>TYPHLOSION</td>\n",
       "      <td>Fuego</td>\n",
       "      <td>2</td>\n",
       "      <td>3</td>\n",
       "      <td>2</td>\n",
       "      <td>4</td>\n",
       "      <td>2</td>\n",
       "      <td>4</td>\n",
       "    </tr>\n",
       "    <tr>\n",
       "      <th>1</th>\n",
       "      <td>PONYTA</td>\n",
       "      <td>Fuego</td>\n",
       "      <td>2</td>\n",
       "      <td>3</td>\n",
       "      <td>2</td>\n",
       "      <td>2</td>\n",
       "      <td>2</td>\n",
       "      <td>3</td>\n",
       "    </tr>\n",
       "    <tr>\n",
       "      <th>2</th>\n",
       "      <td>TORKOAL</td>\n",
       "      <td>Fuego</td>\n",
       "      <td>2</td>\n",
       "      <td>3</td>\n",
       "      <td>4</td>\n",
       "      <td>3</td>\n",
       "      <td>2</td>\n",
       "      <td>1</td>\n",
       "    </tr>\n",
       "    <tr>\n",
       "      <th>3</th>\n",
       "      <td>ARCANINE</td>\n",
       "      <td>Fuego</td>\n",
       "      <td>3</td>\n",
       "      <td>5</td>\n",
       "      <td>3</td>\n",
       "      <td>4</td>\n",
       "      <td>3</td>\n",
       "      <td>4</td>\n",
       "    </tr>\n",
       "    <tr>\n",
       "      <th>4</th>\n",
       "      <td>STARMIE</td>\n",
       "      <td>Agua</td>\n",
       "      <td>2</td>\n",
       "      <td>3</td>\n",
       "      <td>3</td>\n",
       "      <td>4</td>\n",
       "      <td>2</td>\n",
       "      <td>4</td>\n",
       "    </tr>\n",
       "    <tr>\n",
       "      <th>5</th>\n",
       "      <td>PALKIA</td>\n",
       "      <td>Agua</td>\n",
       "      <td>3</td>\n",
       "      <td>4</td>\n",
       "      <td>3</td>\n",
       "      <td>5</td>\n",
       "      <td>3</td>\n",
       "      <td>4</td>\n",
       "    </tr>\n",
       "    <tr>\n",
       "      <th>6</th>\n",
       "      <td>MILOTIC</td>\n",
       "      <td>Agua</td>\n",
       "      <td>3</td>\n",
       "      <td>2</td>\n",
       "      <td>2</td>\n",
       "      <td>4</td>\n",
       "      <td>3</td>\n",
       "      <td>3</td>\n",
       "    </tr>\n",
       "    <tr>\n",
       "      <th>7</th>\n",
       "      <td>AZUMARILL</td>\n",
       "      <td>Agua</td>\n",
       "      <td>3</td>\n",
       "      <td>2</td>\n",
       "      <td>2</td>\n",
       "      <td>2</td>\n",
       "      <td>2</td>\n",
       "      <td>2</td>\n",
       "    </tr>\n",
       "    <tr>\n",
       "      <th>8</th>\n",
       "      <td>LEAFEON</td>\n",
       "      <td>Planta</td>\n",
       "      <td>2</td>\n",
       "      <td>4</td>\n",
       "      <td>4</td>\n",
       "      <td>2</td>\n",
       "      <td>2</td>\n",
       "      <td>3</td>\n",
       "    </tr>\n",
       "    <tr>\n",
       "      <th>9</th>\n",
       "      <td>ABOMASNOW</td>\n",
       "      <td>Planta</td>\n",
       "      <td>3</td>\n",
       "      <td>3</td>\n",
       "      <td>2</td>\n",
       "      <td>3</td>\n",
       "      <td>2</td>\n",
       "      <td>2</td>\n",
       "    </tr>\n",
       "    <tr>\n",
       "      <th>10</th>\n",
       "      <td>CHERUBI</td>\n",
       "      <td>Planta</td>\n",
       "      <td>1</td>\n",
       "      <td>1</td>\n",
       "      <td>2</td>\n",
       "      <td>2</td>\n",
       "      <td>1</td>\n",
       "      <td>1</td>\n",
       "    </tr>\n",
       "    <tr>\n",
       "      <th>11</th>\n",
       "      <td>BRELOOM</td>\n",
       "      <td>Planta</td>\n",
       "      <td>2</td>\n",
       "      <td>4</td>\n",
       "      <td>2</td>\n",
       "      <td>2</td>\n",
       "      <td>2</td>\n",
       "      <td>3</td>\n",
       "    </tr>\n",
       "    <tr>\n",
       "      <th>12</th>\n",
       "      <td>JOLTEON</td>\n",
       "      <td>ElÃ©ctrico</td>\n",
       "      <td>2</td>\n",
       "      <td>2</td>\n",
       "      <td>2</td>\n",
       "      <td>4</td>\n",
       "      <td>3</td>\n",
       "      <td>5</td>\n",
       "    </tr>\n",
       "    <tr>\n",
       "      <th>13</th>\n",
       "      <td>MAGNEZONE</td>\n",
       "      <td>ElÃ©ctrico</td>\n",
       "      <td>2</td>\n",
       "      <td>3</td>\n",
       "      <td>3</td>\n",
       "      <td>5</td>\n",
       "      <td>2</td>\n",
       "      <td>2</td>\n",
       "    </tr>\n",
       "    <tr>\n",
       "      <th>14</th>\n",
       "      <td>PIKACHU</td>\n",
       "      <td>ElÃ©ctrico</td>\n",
       "      <td>1</td>\n",
       "      <td>2</td>\n",
       "      <td>1</td>\n",
       "      <td>2</td>\n",
       "      <td>1</td>\n",
       "      <td>3</td>\n",
       "    </tr>\n",
       "    <tr>\n",
       "      <th>15</th>\n",
       "      <td>AMPHAROS</td>\n",
       "      <td>ElÃ©ctrico</td>\n",
       "      <td>3</td>\n",
       "      <td>3</td>\n",
       "      <td>3</td>\n",
       "      <td>5</td>\n",
       "      <td>4</td>\n",
       "      <td>3</td>\n",
       "    </tr>\n",
       "    <tr>\n",
       "      <th>16</th>\n",
       "      <td>DUSKNOIR</td>\n",
       "      <td>Fantasma</td>\n",
       "      <td>1</td>\n",
       "      <td>3</td>\n",
       "      <td>4</td>\n",
       "      <td>2</td>\n",
       "      <td>4</td>\n",
       "      <td>2</td>\n",
       "    </tr>\n",
       "    <tr>\n",
       "      <th>17</th>\n",
       "      <td>JIRATINA</td>\n",
       "      <td>Fantasma</td>\n",
       "      <td>4</td>\n",
       "      <td>4</td>\n",
       "      <td>3</td>\n",
       "      <td>4</td>\n",
       "      <td>3</td>\n",
       "      <td>3</td>\n",
       "    </tr>\n",
       "    <tr>\n",
       "      <th>18</th>\n",
       "      <td>SPIRITOMB</td>\n",
       "      <td>Fantasma</td>\n",
       "      <td>2</td>\n",
       "      <td>3</td>\n",
       "      <td>3</td>\n",
       "      <td>3</td>\n",
       "      <td>3</td>\n",
       "      <td>1</td>\n",
       "    </tr>\n",
       "    <tr>\n",
       "      <th>19</th>\n",
       "      <td>GENGAR</td>\n",
       "      <td>Fantasma</td>\n",
       "      <td>2</td>\n",
       "      <td>2</td>\n",
       "      <td>2</td>\n",
       "      <td>5</td>\n",
       "      <td>2</td>\n",
       "      <td>4</td>\n",
       "    </tr>\n",
       "  </tbody>\n",
       "</table>\n",
       "</div>"
      ],
      "text/plain": [
       "      PokÃ©mon        Tipo  PS  Ataque  Defensa  Ataque especial  \\\n",
       "0   TYPHLOSION       Fuego   2       3        2                4   \n",
       "1       PONYTA       Fuego   2       3        2                2   \n",
       "2      TORKOAL       Fuego   2       3        4                3   \n",
       "3     ARCANINE       Fuego   3       5        3                4   \n",
       "4      STARMIE        Agua   2       3        3                4   \n",
       "5       PALKIA        Agua   3       4        3                5   \n",
       "6      MILOTIC        Agua   3       2        2                4   \n",
       "7    AZUMARILL        Agua   3       2        2                2   \n",
       "8      LEAFEON      Planta   2       4        4                2   \n",
       "9    ABOMASNOW      Planta   3       3        2                3   \n",
       "10     CHERUBI      Planta   1       1        2                2   \n",
       "11     BRELOOM      Planta   2       4        2                2   \n",
       "12     JOLTEON  ElÃ©ctrico   2       2        2                4   \n",
       "13   MAGNEZONE  ElÃ©ctrico   2       3        3                5   \n",
       "14     PIKACHU  ElÃ©ctrico   1       2        1                2   \n",
       "15    AMPHAROS  ElÃ©ctrico   3       3        3                5   \n",
       "16    DUSKNOIR    Fantasma   1       3        4                2   \n",
       "17    JIRATINA    Fantasma   4       4        3                4   \n",
       "18   SPIRITOMB    Fantasma   2       3        3                3   \n",
       "19      GENGAR    Fantasma   2       2        2                5   \n",
       "\n",
       "    Defensa especial  Velocidad  \n",
       "0                  2          4  \n",
       "1                  2          3  \n",
       "2                  2          1  \n",
       "3                  3          4  \n",
       "4                  2          4  \n",
       "5                  3          4  \n",
       "6                  3          3  \n",
       "7                  2          2  \n",
       "8                  2          3  \n",
       "9                  2          2  \n",
       "10                 1          1  \n",
       "11                 2          3  \n",
       "12                 3          5  \n",
       "13                 2          2  \n",
       "14                 1          3  \n",
       "15                 4          3  \n",
       "16                 4          2  \n",
       "17                 3          3  \n",
       "18                 3          1  \n",
       "19                 2          4  "
      ]
     },
     "execution_count": 2,
     "metadata": {},
     "output_type": "execute_result"
    }
   ],
   "source": [
    "pokemons = pd.read_csv('./DatasetsLab1/pokemon.csv', encoding='latin-1') #Cargamos el datset pokemon \n",
    "pokemons"
   ]
  },
  {
   "cell_type": "code",
   "execution_count": null,
   "id": "6124d1f6-a13d-4d32-9b6c-a92e811bf72c",
   "metadata": {},
   "outputs": [],
   "source": []
  },
  {
   "cell_type": "markdown",
   "id": "512b1788-ae21-481f-bb89-4ff283e90849",
   "metadata": {},
   "source": [
    "## A) Normalizamos el Dataset"
   ]
  },
  {
   "cell_type": "code",
   "execution_count": 3,
   "id": "84aa8bce-1515-4d24-aa55-c92fc2284b3a",
   "metadata": {},
   "outputs": [],
   "source": [
    "from sklearn.preprocessing import StandardScaler, MinMaxScaler\n",
    "import pandas as pd\n",
    "pokemonsN = pd.read_csv('./DatasetsLab1/pokemon.csv', encoding='latin-1') #Cargamos el datset pokemon \n",
    "pokemonsN\n",
    "features = pokemonsN.drop(['PokÃ©mon', 'Tipo'], axis=1)\n",
    "matriz_correlaciones = pokemonsN.corr()\n",
    "scaler = StandardScaler()\n",
    "scaled_features = scaler.fit_transform(features)\n",
    "minmax_scaler = MinMaxScaler()\n",
    "normalized_features = minmax_scaler.fit_transform(scaled_features)\n",
    "pokemonsE = pd.DataFrame(normalized_features, columns=features.columns)\n",
    "pokemonsE['PokÃ©mon'] = pokemonsN['PokÃ©mon']\n",
    "pokemonsE['Tipo'] = pokemonsN['Tipo']\n",
    "pokemonsE\n",
    "autovalores, autovectores = np.linalg.eig(matriz_correlaciones)"
   ]
  },
  {
   "cell_type": "markdown",
   "id": "39613a3e-fa94-44d4-98ea-fad260c65390",
   "metadata": {
    "tags": []
   },
   "source": [
    "## B) Calculamos los autovalores y autovectores a partir de la matriz de covarianza"
   ]
  },
  {
   "cell_type": "code",
   "execution_count": 4,
   "id": "cb89aa88-91b3-4090-b8cc-570ea06a2f06",
   "metadata": {},
   "outputs": [],
   "source": [
    "covariance_matrix = pokemonsE.cov()"
   ]
  },
  {
   "cell_type": "code",
   "execution_count": 5,
   "id": "a8138f55-f210-41a2-b6f4-c2047dd203d0",
   "metadata": {},
   "outputs": [],
   "source": [
    "eigenvalues, eigenvectors = np.linalg.eig(covariance_matrix)"
   ]
  },
  {
   "cell_type": "code",
   "execution_count": 6,
   "id": "0b955ab1-0295-4cc9-99ef-80762df4f810",
   "metadata": {},
   "outputs": [
    {
     "name": "stdout",
     "output_type": "stream",
     "text": [
      "Autovalores:  [0.23116491 0.11978759 0.01113817 0.06084762 0.0492394  0.03801968]\n",
      "Autovectores:  [[ 0.36322194  0.07597435  0.38418556 -0.24759117 -0.8070867   0.04482027]\n",
      " [ 0.22869227  0.35827211 -0.58960084 -0.53296425 -0.00456994 -0.43317435]\n",
      " [ 0.15742424  0.68150955  0.53730968  0.17134633  0.32161199 -0.29877551]\n",
      " [ 0.73605733 -0.29760014 -0.17527064  0.51952127  0.04607101 -0.25866789]\n",
      " [ 0.36769917  0.38159493 -0.22757529  0.01006187  0.13472753  0.80569186]\n",
      " [ 0.33764509 -0.40894155  0.36545903 -0.59605752  0.4742171   0.07096385]]\n"
     ]
    }
   ],
   "source": [
    "print(\"Autovalores: \", eigenvalues)\n",
    "print(\"Autovectores: \", eigenvectors)"
   ]
  },
  {
   "cell_type": "markdown",
   "id": "9f4c5b9d-ceb4-473a-aa93-682f4ed2bdb2",
   "metadata": {},
   "source": [
    "#### Esta informacion nos quiere decir cuanta informacion contiene cada componente del dataset. El porcentaje acumulado de varianza nos dice cuanta infornacion tenemos en total. Ejemplo: si solo usamos 1 componente, tenemos el 45.30% de informacion. Si usamos 2 componentes, tenemos el 68.78%. Si usamos 5 componentes, tenemos el 97.81%\n",
    "#### El porcentaje de varianza nos dice la informacion que tiene cada componente. Ejemplo: la componente 1 tiene el 45.30% de informacion, la componente 3 tiene 11.92% de informacion\n",
    "#### Con dos componentes perdemos el 100 - 68.78 ,es decir, el 31.22% de informacion. \n",
    "#### Con tres componentes presentamos el 80.71% de la informacion"
   ]
  },
  {
   "cell_type": "code",
   "execution_count": null,
   "id": "b343acf4-bb23-434e-a9c7-477a524da018",
   "metadata": {},
   "outputs": [],
   "source": []
  },
  {
   "cell_type": "markdown",
   "id": "0667de25-1c92-49d1-a51f-0feba2e21eec",
   "metadata": {},
   "source": [
    "### Obtenemos un dataframe con estos datos"
   ]
  },
  {
   "cell_type": "markdown",
   "id": "5bdac22b-9a36-4261-aa75-7688c50cf2a4",
   "metadata": {},
   "source": [
    "#### Ordenar los autovalores de mayor a menor"
   ]
  },
  {
   "cell_type": "code",
   "execution_count": 7,
   "id": "f1717b9b-81c4-4eed-80a6-abf9fc3b0a94",
   "metadata": {},
   "outputs": [],
   "source": [
    "sorted_idx = np.argsort(eigenvalues)[::-1]\n",
    "sorted_eigenvalues = eigenvalues[sorted_idx]"
   ]
  },
  {
   "cell_type": "markdown",
   "id": "5046f78e-4306-4fc1-81d4-33733e55e60c",
   "metadata": {},
   "source": [
    "#### Calcular el porcentaje de varianza explicado por cada componente principal y el acumulado"
   ]
  },
  {
   "cell_type": "code",
   "execution_count": 8,
   "id": "23090321-616d-4668-8e87-979709b44ee7",
   "metadata": {},
   "outputs": [],
   "source": [
    "explained_variance_ratio = sorted_eigenvalues / sum(sorted_eigenvalues)\n",
    "cumulative_variance_ratio = np.cumsum(explained_variance_ratio)"
   ]
  },
  {
   "cell_type": "markdown",
   "id": "41dd4c27-9cad-4e9f-a413-7cba5e69d9f9",
   "metadata": {},
   "source": [
    "#### Crear un DataFrame con los resultados"
   ]
  },
  {
   "cell_type": "code",
   "execution_count": 9,
   "id": "234c7193-d390-4794-8727-934d4034bf51",
   "metadata": {
    "tags": []
   },
   "outputs": [],
   "source": [
    "mvarianza = pd.DataFrame({'Componente': range(1, len(eigenvalues)+1),\n",
    "                            'Porcentaje de Varianza': explained_variance_ratio*100,\n",
    "                            'Porcentaje Acumulado de Varianza': cumulative_variance_ratio*100})"
   ]
  },
  {
   "cell_type": "code",
   "execution_count": 10,
   "id": "6da8a192-8383-47db-bf15-b247b0956c3b",
   "metadata": {},
   "outputs": [
    {
     "data": {
      "text/html": [
       "<div>\n",
       "<style scoped>\n",
       "    .dataframe tbody tr th:only-of-type {\n",
       "        vertical-align: middle;\n",
       "    }\n",
       "\n",
       "    .dataframe tbody tr th {\n",
       "        vertical-align: top;\n",
       "    }\n",
       "\n",
       "    .dataframe thead th {\n",
       "        text-align: right;\n",
       "    }\n",
       "</style>\n",
       "<table border=\"1\" class=\"dataframe\">\n",
       "  <thead>\n",
       "    <tr style=\"text-align: right;\">\n",
       "      <th></th>\n",
       "      <th>Componente</th>\n",
       "      <th>Porcentaje de Varianza</th>\n",
       "      <th>Porcentaje Acumulado de Varianza</th>\n",
       "    </tr>\n",
       "  </thead>\n",
       "  <tbody>\n",
       "    <tr>\n",
       "      <th>0</th>\n",
       "      <td>1</td>\n",
       "      <td>45.308919</td>\n",
       "      <td>45.308919</td>\n",
       "    </tr>\n",
       "    <tr>\n",
       "      <th>1</th>\n",
       "      <td>2</td>\n",
       "      <td>23.478676</td>\n",
       "      <td>68.787595</td>\n",
       "    </tr>\n",
       "    <tr>\n",
       "      <th>2</th>\n",
       "      <td>3</td>\n",
       "      <td>11.926290</td>\n",
       "      <td>80.713885</td>\n",
       "    </tr>\n",
       "    <tr>\n",
       "      <th>3</th>\n",
       "      <td>4</td>\n",
       "      <td>9.651049</td>\n",
       "      <td>90.364934</td>\n",
       "    </tr>\n",
       "    <tr>\n",
       "      <th>4</th>\n",
       "      <td>5</td>\n",
       "      <td>7.451956</td>\n",
       "      <td>97.816889</td>\n",
       "    </tr>\n",
       "    <tr>\n",
       "      <th>5</th>\n",
       "      <td>6</td>\n",
       "      <td>2.183111</td>\n",
       "      <td>100.000000</td>\n",
       "    </tr>\n",
       "  </tbody>\n",
       "</table>\n",
       "</div>"
      ],
      "text/plain": [
       "   Componente  Porcentaje de Varianza  Porcentaje Acumulado de Varianza\n",
       "0           1               45.308919                         45.308919\n",
       "1           2               23.478676                         68.787595\n",
       "2           3               11.926290                         80.713885\n",
       "3           4                9.651049                         90.364934\n",
       "4           5                7.451956                         97.816889\n",
       "5           6                2.183111                        100.000000"
      ]
     },
     "execution_count": 10,
     "metadata": {},
     "output_type": "execute_result"
    }
   ],
   "source": [
    "mvarianza"
   ]
  },
  {
   "cell_type": "markdown",
   "id": "4b171583-8502-40b4-a698-be1a9b7ff1b3",
   "metadata": {
    "tags": []
   },
   "source": [
    "#### Esta informacion nos quiere decir cuanta informacion contiene cada componente del dataset. El porcentaje acumulado de varianza nos dice cuanta infornacion tenemos en total. Ejemplo: si solo usamos 1 componente, tenemos el 45.30% de informacion. Si usamos 2 componentes, tenemos el 68.78%. Si usamos 5 componentes, tenemos el 97.81%\n",
    "#### El porcentaje de varianza nos dice la informacion que tiene cada componente. Ejemplo: la componente 1 tiene el 45.30% de informacion, la componente 3 tiene 11.92% de informacion\n",
    "#### Con dos componentes perdemos el 100 - 68.78 ,es decir, el 31.22% de informacion. \n",
    "#### Con tres componentes presentamos el 80.71% de la informacion"
   ]
  },
  {
   "cell_type": "markdown",
   "id": "671a1952-42d4-4168-b384-5d622aef3181",
   "metadata": {},
   "source": [
    "## D) Representacion grafica con libreria scikit-learn"
   ]
  },
  {
   "cell_type": "code",
   "execution_count": 11,
   "id": "74131701-35f9-4244-bb62-f9e1166b2e9c",
   "metadata": {},
   "outputs": [
    {
     "data": {
      "image/png": "[encoded data removed]",
      "text/plain": [
       "<Figure size 640x480 with 1 Axes>"
      ]
     },
     "metadata": {},
     "output_type": "display_data"
    }
   ],
   "source": [
    "import pandas as pd\n",
    "import numpy as np\n",
    "import matplotlib.pyplot as plt\n",
    "from sklearn.decomposition import PCA\n",
    "pca = PCA(n_components=2)\n",
    "componentes_principales = pca.fit_transform(mvarianza)\n",
    "df_componentes_principales = pd.DataFrame(data=componentes_principales, columns=['Componente 1', 'Componente 2'])\n",
    "plt.scatter(df_componentes_principales['Componente 1'], df_componentes_principales['Componente 2'])\n",
    "plt.xlabel('Componente 1')\n",
    "plt.ylabel('Componente 2')\n",
    "plt.title('Gráfico de dispersión de los individuos del dataset')\n",
    "\n",
    "# Muestra el gráfico\n",
    "plt.show()"
   ]
  },
  {
   "cell_type": "raw",
   "id": "620c26f3-6a32-43be-95c9-970981b5227c",
   "metadata": {},
   "source": [
    "import pandas as pd\n",
    "import matplotlib.pyplot as plt\n",
    "componente1 = 1\n",
    "componente2 = 2\n",
    "plt.scatter(variance_df.loc[componente1-1, 'Porcentaje de Varianza'], variance_df.loc[componente1-1, 'Porcentaje Acumulado de Varianza'], label=f\"Componente {componente1}\")\n",
    "plt.scatter(variance_df.loc[componente2-1, 'Porcentaje de Varianza'], variance_df.loc[componente2-1, 'Porcentaje Acumulado de Varianza'], label=f\"Componente {componente2}\")\n",
    "\n",
    "# Añade etiquetas y título al gráfico\n",
    "plt.xlabel('Varianza (%)')\n",
    "plt.ylabel('Porcentaje acumulado (%)')\n",
    "plt.title(f'Gráfico de dispersión de Componentes {componente1} y {componente2}')\n",
    "\n",
    "# Muestra la leyenda\n",
    "plt.legend()\n",
    "\n",
    "# Muestra el gráfico\n",
    "plt.show()"
   ]
  },
  {
   "cell_type": "raw",
   "id": "ce99c3be-ee94-4d37-9d7a-a8d3427a0097",
   "metadata": {},
   "source": [
    "# Reducción de dimensionalidad a 2 componentes principales\n",
    "pca = PCA(n_components=2)\n",
    "pca.fit(variance_df)\n",
    "X_pca = pca.transform(variance_df)\n",
    "\n",
    "# Creación del diagrama de dispersión\n",
    "plt.scatter(X_pca[:,0], X_pca[:,1])\n",
    "# Representamos en la gráfica el componente principal 1\n",
    "plt.xlabel('Componente principal 1')\n",
    "# Representamos en la gráfica el componente principal 1\n",
    "plt.ylabel('Componente principal 2')\n",
    "# Nombramos la gráfica \n",
    "plt.title('Diagrama de dispersión de los datos en 2 componentes principales')\n",
    "# Visualizamos por pantalla la gráfica\n",
    "plt.show()"
   ]
  },
  {
   "cell_type": "markdown",
   "id": "48cd5f38-0b46-4e76-a8c6-35c31fe9c200",
   "metadata": {},
   "source": [
    "#### Esta informacion nos quiere decir cuanta informacion contiene cada componente del dataset. El porcentaje acumulado de varianza nos dice cuanta infornacion tenemos en total. Ejemplo: si solo usamos 1 componente, tenemos el 41.64% de informacion. Si usamos 2 componentes, tenemos el 66.19%. Si usamos 5 componentes, tenemos el 97.40%\n",
    "#### El porcentaje de varianza nos dice la informacion que tiene cada componente. Ejemplo: la componente 1 tiene el 41.64% de informacion, la componente 3 tiene 11.32% de informacion\n",
    "#### Con dos componentes perdemos el 100 - 66.19 ,es decir, el 33.81% de informacion. \n",
    "#### Con tres componentes presentamos el 78.55% de la informacion"
   ]
  }
 ],
 "metadata": {
  "kernelspec": {
   "display_name": "Python 3 (ipykernel)",
   "language": "python",
   "name": "python3"
  },
  "language_info": {
   "codemirror_mode": {
    "name": "ipython",
    "version": 3
   },
   "file_extension": ".py",
   "mimetype": "text/x-python",
   "name": "python",
   "nbconvert_exporter": "python",
   "pygments_lexer": "ipython3",
   "version": "3.9.13"
  }
 },
 "nbformat": 4,
 "nbformat_minor": 5
}
